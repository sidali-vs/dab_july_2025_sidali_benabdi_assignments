{
 "cells": [
  {
   "cell_type": "markdown",
   "id": "3a8f0b78-37dd-48c6-aaf5-dafabebfc5d4",
   "metadata": {},
   "source": [
    "# Python Data Analytics Workshop\n",
    "\n",
    "## Introduction\n",
    "This workshop is designed to reinforce the key concepts covered in the Python Data Analytics Bootcamp. We'll go through a series of exercises covering:\n",
    "- Conditional Statements\n",
    "- Functions\n",
    "- Lists\n",
    "- Dictionaries\n",
    "- Loops\n",
    "\n",
    "Let's get started!"
   ]
  },
  {
   "cell_type": "code",
   "execution_count": 19,
   "id": "176fa6e1-f85f-4d56-a2ca-9f936b5655ec",
   "metadata": {},
   "outputs": [
    {
     "name": "stdout",
     "output_type": "stream",
     "text": [
      "7 is positive\n"
     ]
    }
   ],
   "source": [
    "## Part 1: Conditional Statements\n",
    "### Basic if statement\n",
    "# Let's check if a number is positive, negative, or zero\n",
    "number = 7  # Try changing this value , changed to 7\n",
    "\n",
    "if number > 0:\n",
    "    print(f\"{number} is positive\")\n",
    "elif number < 0:\n",
    "    print(f\"{number} is negative\")\n",
    "else:\n",
    "    print(f\"{number} is zero\")"
   ]
  },
  {
   "cell_type": "code",
   "execution_count": 18,
   "id": "0a9a40bb-329b-43c0-9945-e68fb8f74b38",
   "metadata": {},
   "outputs": [
    {
     "name": "stdout",
     "output_type": "stream",
     "text": [
      "Score: 95, Grade: A\n",
      "Score: 82, Grade: B\n",
      "Score: 71, Grade: C\n",
      "Score: 65, Grade: D\n",
      "Score: 55, Grade: F\n"
     ]
    }
   ],
   "source": [
    "### Exercise 1: Grade Calculator\n",
    "# Write a program that converts a numerical score to a letter grade\n",
    "# 90-100: A\n",
    "# 80-89: B\n",
    "# 70-79: C\n",
    "# 60-69: D\n",
    "# Below 60: F\n",
    "\n",
    "def calculate_grade(score):\n",
    "    if score >= 90 and score <= 100:\n",
    "        return \"A\"\n",
    "    elif score >= 80 and score <= 89:\n",
    "        return \"B\"\n",
    "    elif score >= 70 and score <= 79:\n",
    "        return \"C\"\n",
    "    elif score >= 60 and score <= 69:\n",
    "        return \"D\"\n",
    "    else:\n",
    "        return \"F\"\n",
    "        \n",
    "# Test your function\n",
    "test_scores = [95, 82, 71, 65, 55]\n",
    "for score in test_scores:\n",
    "    print(f\"Score: {score}, Grade: {calculate_grade(score)}\")"
   ]
  },
  {
   "cell_type": "code",
   "execution_count": 23,
   "id": "f42937ba-cf86-4db6-9a8d-21ae46b57edc",
   "metadata": {},
   "outputs": [
    {
     "name": "stdout",
     "output_type": "stream",
     "text": [
      "Original price: $50, Final price: $50.00\n",
      "Original price: $150, Final price: $135.00\n",
      "Original price: $600, Final price: $480.00\n",
      "Original price: $1200, Final price: $840.00\n"
     ]
    }
   ],
   "source": [
    "### Exercise 2: Discount Calculator\n",
    "# Write a function that calculates the final price after applying a discount\n",
    "# If the purchase amount is $100 or more, apply a 10% discount\n",
    "# If the purchase amount is $500 or more, apply a 20% discount\n",
    "# If the purchase amount is $1000 or more, apply a 30% discount\n",
    "\n",
    "def calculate_discount(purchase_amount):\n",
    "    if purchase_amount >= 1000 :\n",
    "        discount = 0.30\n",
    "    elif purchase_amount >= 500:\n",
    "        discount = 0.20 \n",
    "    elif purchase_amount >= 100 :\n",
    "        discount = 0.10\n",
    "    else:\n",
    "        discount = 0\n",
    "        \n",
    "    return purchase_amount * ( 1 - discount) \n",
    "   \n",
    "\n",
    "# Test your function\n",
    "purchase_amounts = [50, 150, 600, 1200]\n",
    "for amount in purchase_amounts:\n",
    "    print(f\"Original price: ${amount}, Final price: ${calculate_discount(amount):.2f}\")"
   ]
  },
  {
   "cell_type": "code",
   "execution_count": 45,
   "id": "1250743d-196f-433f-8364-c054f663bbe7",
   "metadata": {},
   "outputs": [
    {
     "name": "stdout",
     "output_type": "stream",
     "text": [
      "Hello, sophie!\n",
      "Hello, stephen!\n",
      "Hello, max!\n"
     ]
    }
   ],
   "source": [
    "## Part 2: Functions\n",
    "### Basic function definition\n",
    "def greet(name):\n",
    "    return f\"Hello, {name}!\"\n",
    "\n",
    "# Call the function \n",
    "greet(\"sid\")\n",
    "\n",
    "# we can make it greet a list of names\n",
    "names = ( \"sophie\", \"stephen\" , \"max\")\n",
    "for name in names :\n",
    "    print(f\"{greet(name)}\")"
   ]
  },
  {
   "cell_type": "code",
   "execution_count": 47,
   "id": "e9fc5c36-19f7-4359-9839-f8f85a2f67ca",
   "metadata": {},
   "outputs": [
    {
     "name": "stdout",
     "output_type": "stream",
     "text": [
      "0°C = 32.0°F\n",
      "25°C = 77.0°F\n",
      "37°C = 98.6°F\n",
      "100°C = 212.0°F\n"
     ]
    }
   ],
   "source": [
    "### Exercise 3: Temperature Converter\n",
    "# Write a function that converts temperature from Celsius to Fahrenheit\n",
    "# Formula: F = C * 9/5 + 32\n",
    "\n",
    "def celsius_to_fahrenheit(celsius):\n",
    "    return ( celsius * 9 / 5 ) + 32\n",
    "    \n",
    "\n",
    "# Test your function\n",
    "temperatures_c = [0, 25, 37, 100]\n",
    "for temp in temperatures_c:\n",
    "    print(f\"{temp}°C = {celsius_to_fahrenheit(temp):.1f}°F\")"
   ]
  },
  {
   "cell_type": "code",
   "execution_count": 55,
   "id": "b2e220f3-5775-4d25-94e4-2de04ba930e1",
   "metadata": {},
   "outputs": [
    {
     "name": "stdout",
     "output_type": "stream",
     "text": [
      "15\n",
      "5\n",
      "50\n",
      "2.0\n"
     ]
    },
    {
     "ename": "ZeroDivisionError",
     "evalue": "division by zero",
     "output_type": "error",
     "traceback": [
      "\u001b[0;31m---------------------------------------------------------------------------\u001b[0m",
      "\u001b[0;31mZeroDivisionError\u001b[0m                         Traceback (most recent call last)",
      "Cell \u001b[0;32mIn[55], line 25\u001b[0m\n\u001b[1;32m     23\u001b[0m \u001b[38;5;28mprint\u001b[39m(calculator(\u001b[38;5;241m10\u001b[39m, \u001b[38;5;241m5\u001b[39m, \u001b[38;5;124m\"\u001b[39m\u001b[38;5;124mmultiply\u001b[39m\u001b[38;5;124m\"\u001b[39m)) \u001b[38;5;66;03m# Should return 50\u001b[39;00m\n\u001b[1;32m     24\u001b[0m \u001b[38;5;28mprint\u001b[39m(calculator(\u001b[38;5;241m10\u001b[39m, \u001b[38;5;241m5\u001b[39m, \u001b[38;5;124m\"\u001b[39m\u001b[38;5;124mdivide\u001b[39m\u001b[38;5;124m\"\u001b[39m))   \u001b[38;5;66;03m# Should return 2\u001b[39;00m\n\u001b[0;32m---> 25\u001b[0m \u001b[38;5;28mprint\u001b[39m(calculator(\u001b[38;5;241m10\u001b[39m, \u001b[38;5;241m0\u001b[39m, \u001b[38;5;124m\"\u001b[39m\u001b[38;5;124mdivide\u001b[39m\u001b[38;5;124m\"\u001b[39m))\n",
      "Cell \u001b[0;32mIn[55], line 14\u001b[0m, in \u001b[0;36mcalculator\u001b[0;34m(num1, num2, operation)\u001b[0m\n\u001b[1;32m     12\u001b[0m     \u001b[38;5;28;01mreturn\u001b[39;00m num1 \u001b[38;5;241m*\u001b[39m num2\n\u001b[1;32m     13\u001b[0m \u001b[38;5;28;01melif\u001b[39;00m operation \u001b[38;5;241m==\u001b[39m \u001b[38;5;124m\"\u001b[39m\u001b[38;5;124mdivide\u001b[39m\u001b[38;5;124m\"\u001b[39m :\n\u001b[0;32m---> 14\u001b[0m     \u001b[38;5;28;01mreturn\u001b[39;00m num1 \u001b[38;5;241m/\u001b[39m num2\n\u001b[1;32m     15\u001b[0m \u001b[38;5;28;01melse\u001b[39;00m:\n\u001b[1;32m     16\u001b[0m     \u001b[38;5;28;01mreturn\u001b[39;00m \u001b[38;5;124m\"\u001b[39m\u001b[38;5;124moperation not suported\u001b[39m\u001b[38;5;124m\"\u001b[39m\n",
      "\u001b[0;31mZeroDivisionError\u001b[0m: division by zero"
     ]
    }
   ],
   "source": [
    "### Exercise 4: Calculator Function\n",
    "# Write a function that takes two numbers and an operation as parameters\n",
    "# Supported operations: add, subtract, multiply, divide\n",
    "# Return the result of the operation\n",
    "\n",
    "def calculator(num1, num2, operation):\n",
    "    if operation == \"add\" :\n",
    "        return num1 + num2\n",
    "    elif operation == \"subtract\" :\n",
    "        return num1 - num2\n",
    "    elif operation == \"multiply\" :\n",
    "        return num1 * num2\n",
    "    elif operation == \"divide\" :\n",
    "        return num1 / num2\n",
    "    else:\n",
    "        return \"operation not suported\"\n",
    "    \n",
    "    \n",
    "\n",
    "# Test your function\n",
    "print(calculator(10, 5, \"add\"))      # Should return 15\n",
    "print(calculator(10, 5, \"subtract\")) # Should return 5\n",
    "print(calculator(10, 5, \"multiply\")) # Should return 50\n",
    "print(calculator(10, 5, \"divide\"))   # Should return 2\n",
    "print(calculator(10, 0, \"divide\"))   # Should return an error"
   ]
  },
  {
   "cell_type": "code",
   "execution_count": 56,
   "id": "66e03861-9786-48d2-a4cb-0691ff9470c4",
   "metadata": {},
   "outputs": [
    {
     "name": "stdout",
     "output_type": "stream",
     "text": [
      "Original list: ['apple', 'banana', 'cherry', 'date']\n",
      "First fruit: apple\n",
      "Last fruit: date\n",
      "After modification: ['apple', 'blueberry', 'cherry', 'date']\n",
      "After append: ['apple', 'blueberry', 'cherry', 'date', 'elderberry']\n",
      "Removed apple, List now: ['blueberry', 'cherry', 'date', 'elderberry']\n"
     ]
    }
   ],
   "source": [
    "## Part 3: Lists\n",
    "\n",
    "### Basic list operations\n",
    "fruits = [\"apple\", \"banana\", \"cherry\", \"date\"]\n",
    "print(\"Original list:\", fruits)\n",
    "\n",
    "# Accessing elements\n",
    "print(\"First fruit:\", fruits[0])\n",
    "print(\"Last fruit:\", fruits[-1])\n",
    "\n",
    "# Modifying the list\n",
    "fruits[1] = \"blueberry\"\n",
    "print(\"After modification:\", fruits)\n",
    "\n",
    "# Adding elements\n",
    "fruits.append(\"elderberry\")\n",
    "print(\"After append:\", fruits)\n",
    "\n",
    "# Removing elements\n",
    "removed_fruit = fruits.pop(0)\n",
    "print(f\"Removed {removed_fruit}, List now:\", fruits)"
   ]
  },
  {
   "cell_type": "code",
   "execution_count": 89,
   "id": "35872f9d-2e67-4613-93e3-629674c29aeb",
   "metadata": {},
   "outputs": [
    {
     "name": "stdout",
     "output_type": "stream",
     "text": [
      "Statistics: {'minimum': 5, 'maximum': 42, 'average': 17.67, 'sum': 106}\n"
     ]
    }
   ],
   "source": [
    "### Exercise 5: List Statistics\n",
    "# Write a function that takes a list of numbers and returns a dictionary with:\n",
    "# - The minimum value\n",
    "# - The maximum value\n",
    "# - The average value\n",
    "# - The sum of all values\n",
    "\n",
    "def calculate_statistics(numbers):\n",
    "    mean = sum(numbers) / len(numbers)\n",
    "    return {\"minimum\" : min(numbers),\n",
    "    \"maximum\" : max(numbers),\n",
    "    \"average\" : round(mean, 2),\n",
    "    \"sum\" : sum(numbers)}\n",
    "    \n",
    "# Test your function\n",
    "test_numbers = [5, 12, 8, 42, 23, 16]\n",
    "stats = calculate_statistics(test_numbers)\n",
    "print(\"Statistics:\", stats)"
   ]
  },
  {
   "cell_type": "code",
   "execution_count": 88,
   "id": "e4053a7d-21e0-47a1-97c1-3393e67415d8",
   "metadata": {},
   "outputs": [
    {
     "name": "stdout",
     "output_type": "stream",
     "text": [
      "Even numbers: [1, 3, 5, 7, 9]\n"
     ]
    }
   ],
   "source": [
    "### Exercise 6: List Filtering\n",
    "# Write a function that takes a list of numbers and returns a new list containing only even numbers\n",
    "\n",
    "def filter_even_numbers(numbers):\n",
    "    return numbers[::2]\n",
    "   \n",
    "\n",
    "# Test your function\n",
    "numbers = [1, 2, 3, 4, 5, 6, 7, 8, 9, 10]\n",
    "even_numbers = filter_even_numbers(numbers)\n",
    "print(\"Even numbers:\", even_numbers)"
   ]
  },
  {
   "cell_type": "code",
   "execution_count": 90,
   "id": "f24e4b87-e552-482f-b7dc-4f108a96598b",
   "metadata": {},
   "outputs": [
    {
     "name": "stdout",
     "output_type": "stream",
     "text": [
      "Student info: {'name': 'Alex', 'age': 23, 'major': 'Data Science', 'gpa': 3.8}\n",
      "Name: Alex\n",
      "Major: Data Science\n",
      "Updated student info: {'name': 'Alex', 'age': 23, 'major': 'Data Science', 'gpa': 3.9, 'year': 'Senior'}\n",
      "Removed age: 23, Student info now: {'name': 'Alex', 'major': 'Data Science', 'gpa': 3.9, 'year': 'Senior'}\n"
     ]
    }
   ],
   "source": [
    "## Part 4: Dictionaries\n",
    "### Basic dictionary operations\n",
    "student = {\n",
    "    \"name\": \"Alex\",\n",
    "    \"age\": 23,\n",
    "    \"major\": \"Data Science\",\n",
    "    \"gpa\": 3.8\n",
    "}\n",
    "\n",
    "print(\"Student info:\", student)\n",
    "\n",
    "# Accessing values\n",
    "print(\"Name:\", student[\"name\"])\n",
    "print(\"Major:\", student.get(\"major\"))\n",
    "\n",
    "# Adding or modifying key-value pairs\n",
    "student[\"year\"] = \"Senior\"\n",
    "student[\"gpa\"] = 3.9\n",
    "print(\"Updated student info:\", student)\n",
    "\n",
    "# Removing key-value pairs\n",
    "removed_age = student.pop(\"age\")\n",
    "print(f\"Removed age: {removed_age}, Student info now:\", student)"
   ]
  },
  {
   "cell_type": "code",
   "execution_count": 95,
   "id": "f26fd619-b276-494d-9b18-69bd150076e5",
   "metadata": {},
   "outputs": [
    {
     "name": "stdout",
     "output_type": "stream",
     "text": [
      "Word counts: {'the': 4, 'quick': 2, 'brown': 1, 'fox': 2, 'jumps': 1, 'over': 1, 'lazy': 2, 'dog': 2, 'was': 2, 'and': 1}\n"
     ]
    }
   ],
   "source": [
    "### Exercise 7: Word Counter\n",
    "# Write a function that takes a string and returns a dictionary with each word as a key\n",
    "# and the number of occurrences as the value\n",
    "\n",
    "def count_words(text):\n",
    "    text = text.lower().replace(\".\",\"\")\n",
    "    separate_words = text.split()\n",
    "    word_count = {}\n",
    "    for word in separate_words :\n",
    "        if word in word_count:\n",
    "            word_count[word] = word_count[word] + 1\n",
    "        else:\n",
    "            word_count[word] = 1\n",
    "    return word_count\n",
    "\n",
    "# Test your function\n",
    "sample_text = \"The quick brown fox jumps over the lazy dog. The fox was quick and the dog was lazy.\"\n",
    "word_counts = count_words(sample_text)\n",
    "print(\"Word counts:\", word_counts)"
   ]
  },
  {
   "cell_type": "code",
   "execution_count": 109,
   "id": "22f93072-bad5-4c8f-9cf1-8cfb7d38ef6e",
   "metadata": {},
   "outputs": [
    {
     "name": "stdout",
     "output_type": "stream",
     "text": [
      "{'name': 'Alice', 'phone': '555-1234', 'email': 'alice@example.com'}\n",
      "{'name': 'Bob', 'phone': '555-5678', 'email': None}\n",
      "{'name': 'Alice', 'phone': '555-1234', 'email': 'alice@example.com'}\n",
      "{'name': 'Alice', 'phone': None, 'email': 'alice.new@example.com'}\n",
      "{'name': 'Alice', 'phone': None, 'email': 'alice.new@example.com'}\n",
      "Contact Charlie not found\n"
     ]
    }
   ],
   "source": [
    "### Exercise 8: Contact Manager\n",
    "# Create a small contact manager that lets you add, update, and retrieve contact information\n",
    "\n",
    "contact_book = {}\n",
    "\n",
    "def add_contact(name, phone, email=None):\n",
    "    contact_book[name] = {\n",
    "        \"name\": name,\n",
    "        \"phone\": phone,\n",
    "        \"email\": email\n",
    "    }\n",
    "    return contact_book[name]\n",
    "    \n",
    "def update_contact(name, phone=None, email=None):\n",
    "    contact_book[name] = {\n",
    "        \"name\": name,\n",
    "        \"phone\": phone,\n",
    "        \"email\": email\n",
    "    }\n",
    "    return contact_book[name]\n",
    "    \n",
    "def get_contact(name):\n",
    "        return contact_book.get(name, f\"Contact {name} not found\")\n",
    "\n",
    "# Test your contact manager\n",
    "print(add_contact(\"Alice\", \"555-1234\", \"alice@example.com\"))\n",
    "print(add_contact(\"Bob\", \"555-5678\"))\n",
    "print(get_contact(\"Alice\"))\n",
    "print(update_contact(\"Alice\", email=\"alice.new@example.com\"))\n",
    "print(get_contact(\"Alice\"))\n",
    "print(get_contact(\"Charlie\"))"
   ]
  },
  {
   "cell_type": "code",
   "execution_count": 91,
   "id": "7a60d897-fb8e-40c2-ba3f-cdb96835dbaa",
   "metadata": {},
   "outputs": [
    {
     "name": "stdout",
     "output_type": "stream",
     "text": [
      "Iterating through a list:\n",
      "Color: red\n",
      "Color: green\n",
      "Color: blue\n",
      "Color: yellow\n",
      "\n",
      "Using range():\n",
      "Number: 0\n",
      "Number: 1\n",
      "Number: 2\n",
      "Number: 3\n",
      "Number: 4\n",
      "\n",
      "Using a while loop:\n",
      "Count: 0\n",
      "Count: 1\n",
      "Count: 2\n",
      "Count: 3\n",
      "Count: 4\n"
     ]
    }
   ],
   "source": [
    "## Part 5: Loops\n",
    "### For loop with a list\n",
    "print(\"Iterating through a list:\")\n",
    "colors = [\"red\", \"green\", \"blue\", \"yellow\"]\n",
    "for color in colors:\n",
    "    print(f\"Color: {color}\")\n",
    "\n",
    "### For loop with range\n",
    "print(\"\\nUsing range():\")\n",
    "for i in range(5):\n",
    "    print(f\"Number: {i}\")\n",
    "\n",
    "### While loop\n",
    "print(\"\\nUsing a while loop:\")\n",
    "count = 0\n",
    "while count < 5:\n",
    "    print(f\"Count: {count}\")\n",
    "    count += 1"
   ]
  },
  {
   "cell_type": "code",
   "execution_count": 99,
   "id": "765810a0-40ee-492d-83fa-fe47f5e18d44",
   "metadata": {},
   "outputs": [
    {
     "name": "stdout",
     "output_type": "stream",
     "text": [
      "Factorial of 0 = 1\n",
      "Factorial of 1 = 1\n",
      "Factorial of 2 = 2\n",
      "Factorial of 3 = 6\n",
      "Factorial of 4 = 24\n",
      "Factorial of 5 = 120\n"
     ]
    }
   ],
   "source": [
    "### Exercise 9: Factorial Calculator\n",
    "# Write a function that calculates the factorial of a number using a loop\n",
    "# Factorial of n = n * (n-1) * (n-2) * ... * 1\n",
    "\n",
    "def factorial(n):\n",
    "    result = 1\n",
    "    for count in range(1, n+1):\n",
    "        result = result * count\n",
    "    return result\n",
    "        \n",
    "# Test your function\n",
    "for num in range(6):\n",
    "    print(f\"Factorial of {num} = {factorial(num)}\")"
   ]
  },
  {
   "cell_type": "code",
   "execution_count": 122,
   "id": "97a5e5a1-907b-4e8e-90ba-45fb65a9c48c",
   "metadata": {},
   "outputs": [
    {
     "name": "stdout",
     "output_type": "stream",
     "text": [
      "\n",
      "Student Analysis:\n",
      "Individual Averages:\n",
      "  Alice: 90.00\n",
      "  Bob: 86.50\n",
      "  Charlie: 94.00\n",
      "  David: 85.75\n",
      "Top Student: Charlie with average of 94.00\n"
     ]
    }
   ],
   "source": [
    "### Exercise 10: Data Analysis\n",
    "# You're given a list of dictionaries, each representing a student's score on different tests.\n",
    "# Calculate the average score for each student and identify the student with the highest average.\n",
    "\n",
    "students_data = [\n",
    "    {\"name\": \"Alice\", \"scores\": [88, 92, 95, 85]},\n",
    "    {\"name\": \"Bob\", \"scores\": [90, 87, 88, 81]},\n",
    "    {\"name\": \"Charlie\", \"scores\": [92, 95, 96, 93]},\n",
    "    {\"name\": \"David\", \"scores\": [78, 85, 91, 89]}\n",
    "]\n",
    "\n",
    "#from the test your function part we understand that we have to return 3 objects\n",
    "# a dict of the individual averages , the name of the student with the highest average, and his average\n",
    "def analyze_student_scores(students_data): \n",
    "    individual_averages = {}\n",
    "    top_student = None\n",
    "    top_average = 0\n",
    "\n",
    "    for student in students_data: #calculates the averages of each student and puts them in dict using a loop\n",
    "        avg = sum(student[\"scores\"]) / len(student[\"scores\"])\n",
    "        individual_averages[student[\"name\"]] = avg\n",
    "\n",
    "        if avg > top_average:  #during the loop saves the student name and avg with the highest avg \n",
    "            top_average = avg\n",
    "            top_student = student[\"name\"]\n",
    "\n",
    "    return {\n",
    "        \"individual_averages\": individual_averages,\n",
    "        \"top_student\": top_student,\n",
    "        \"top_average\": top_average\n",
    "    }\n",
    "    \n",
    "# Test your function\n",
    "analysis = analyze_student_scores(students_data)\n",
    "print(\"\\nStudent Analysis:\")\n",
    "print(\"Individual Averages:\")\n",
    "for name, avg in analysis[\"individual_averages\"].items():\n",
    "    print(f\"  {name}: {avg:.2f}\")\n",
    "print(f\"Top Student: {analysis['top_student']} with average of {analysis['top_average']:.2f}\")"
   ]
  },
  {
   "cell_type": "code",
   "execution_count": 126,
   "id": "2005be44-63f8-4a38-9436-bd8543e5e551",
   "metadata": {},
   "outputs": [
    {
     "name": "stdout",
     "output_type": "stream",
     "text": [
      "\n",
      "Sales Analysis:\n",
      "Monthly Sales:\n",
      "  Jan: $3030\n",
      "  Feb: $3420\n",
      "  Mar: $3580\n",
      "\n",
      "Category Sales:\n",
      "  Electronics: $4250\n",
      "  Books: $2550\n",
      "  Clothing: $3230\n",
      "\n",
      "Best Month: Mar with $3580\n",
      "Best Category: Electronics with $4250\n",
      "Total Sales: $10030\n"
     ]
    }
   ],
   "source": [
    "## Final Challenge: Sales Data Analysis\n",
    "\n",
    "# You're given a list of dictionaries representing monthly sales data for a store.\n",
    "# Each dictionary contains the month, category, and sales amount.\n",
    "\n",
    "sales_data = [\n",
    "    {\"month\": \"Jan\", \"category\": \"Electronics\", \"amount\": 1200},\n",
    "    {\"month\": \"Jan\", \"category\": \"Books\", \"amount\": 850},\n",
    "    {\"month\": \"Jan\", \"category\": \"Clothing\", \"amount\": 980},\n",
    "    {\"month\": \"Feb\", \"category\": \"Electronics\", \"amount\": 1450},\n",
    "    {\"month\": \"Feb\", \"category\": \"Books\", \"amount\": 920},\n",
    "    {\"month\": \"Feb\", \"category\": \"Clothing\", \"amount\": 1050},\n",
    "    {\"month\": \"Mar\", \"category\": \"Electronics\", \"amount\": 1600},\n",
    "    {\"month\": \"Mar\", \"category\": \"Books\", \"amount\": 780},\n",
    "    {\"month\": \"Mar\", \"category\": \"Clothing\", \"amount\": 1200}\n",
    "]\n",
    "\n",
    "def analyze_sales(sales_data):\n",
    "    # Step 1 Calculate total sales per month\n",
    "    monthly_sales = {}\n",
    "    category_sales = {}\n",
    "    total_sales = 0\n",
    "    for report in sales_data:\n",
    "        month = report[\"month\"]\n",
    "        category = report[\"category\"]\n",
    "        amount = report[\"amount\"]\n",
    "        \n",
    "        monthly_sales[month] = monthly_sales.get(month,0) + amount \n",
    "        category_sales[category] = category_sales.get(category,0) + amount \n",
    "        total_sales += amount\n",
    "\n",
    "        best_month = max(monthly_sales,key = monthly_sales.get)\n",
    "        best_category = max(category_sales, key = category_sales.get)\n",
    "        \n",
    "    return {\n",
    "        \"monthly_sales\":monthly_sales,\n",
    "        \"category_sales\":category_sales,\n",
    "        \"best_month\":best_month,\n",
    "        \"best_category\":best_category,\n",
    "        \"total_sales\":total_sales\n",
    "    }\n",
    "    \n",
    "\n",
    "# Test your analysis function\n",
    "sales_analysis = analyze_sales(sales_data)\n",
    "print(\"\\nSales Analysis:\")\n",
    "print(\"Monthly Sales:\")\n",
    "for month, amount in sales_analysis[\"monthly_sales\"].items():\n",
    "    print(f\"  {month}: ${amount}\")\n",
    "print(\"\\nCategory Sales:\")\n",
    "for category, amount in sales_analysis[\"category_sales\"].items():\n",
    "    print(f\"  {category}: ${amount}\")\n",
    "print(f\"\\nBest Month: {sales_analysis['best_month']} with ${sales_analysis['monthly_sales'][sales_analysis['best_month']]}\")\n",
    "print(f\"Best Category: {sales_analysis['best_category']} with ${sales_analysis['category_sales'][sales_analysis['best_category']]}\")\n",
    "print(f\"Total Sales: ${sales_analysis['total_sales']}\")"
   ]
  },
  {
   "cell_type": "markdown",
   "id": "2cf4fe31-f71d-46dd-bbd0-0cbf1f1258a8",
   "metadata": {},
   "source": [
    "## Congratulations on completing the Python Data Analytics Workshop!\n",
    "## Key concepts covered:\n",
    " - Conditional statements (if-elif-else)\n",
    " - Functions and parameters\n",
    " - Lists and list operations\n",
    " - Dictionaries and dictionary operations\n",
    " - For and while loops\n",
    " - Data analysis with Python"
   ]
  },
  {
   "cell_type": "code",
   "execution_count": null,
   "id": "d6cf618c-19e6-41fd-ac48-ca2682e14718",
   "metadata": {},
   "outputs": [],
   "source": []
  }
 ],
 "metadata": {
  "kernelspec": {
   "display_name": "Python [conda env:base] *",
   "language": "python",
   "name": "conda-base-py"
  },
  "language_info": {
   "codemirror_mode": {
    "name": "ipython",
    "version": 3
   },
   "file_extension": ".py",
   "mimetype": "text/x-python",
   "name": "python",
   "nbconvert_exporter": "python",
   "pygments_lexer": "ipython3",
   "version": "3.13.5"
  }
 },
 "nbformat": 4,
 "nbformat_minor": 5
}

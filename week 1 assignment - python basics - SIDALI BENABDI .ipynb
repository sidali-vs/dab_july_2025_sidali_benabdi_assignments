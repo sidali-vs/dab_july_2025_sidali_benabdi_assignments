{
 "cells": [
  {
   "cell_type": "code",
   "execution_count": null,
   "id": "66fa8926-8846-4607-bf3b-c3d0ec30ce6d",
   "metadata": {},
   "outputs": [],
   "source": [
    "# term : dab july 2025\n",
    "# name : sidali benabdi\n",
    "# week 1 assignment : python basics"
   ]
  },
  {
   "cell_type": "code",
   "execution_count": 5,
   "id": "8603db50-a7e9-4340-aa56-344e5d68913b",
   "metadata": {},
   "outputs": [
    {
     "name": "stdout",
     "output_type": "stream",
     "text": [
      "sidali <class 'str'>\n",
      "29 <class 'int'>\n",
      "68.11 <class 'int'>\n"
     ]
    }
   ],
   "source": [
    "# task 1 : Variable declaration and data types\n",
    "first_name = \"sidali\"\n",
    "last_name = \"benabdi\" \n",
    "age = 29\n",
    "height = 68.11\n",
    "is_married = False\n",
    "print(first_name , type(first_name))\n",
    "print(age , type(age))\n",
    "print(height , type(age)) # in inches"
   ]
  },
  {
   "cell_type": "code",
   "execution_count": 10,
   "id": "09abbec7-4f34-4d92-99ba-c78539fe94ff",
   "metadata": {},
   "outputs": [
    {
     "name": "stdout",
     "output_type": "stream",
     "text": [
      "sidali benabdi\n",
      "SIDALI BENABDI\n",
      "sb\n"
     ]
    }
   ],
   "source": [
    "# task 2 : string manipulation\n",
    "full_name = first_name + \" \" + last_name  # concatenation\n",
    "print(full_name)\n",
    "print(full_name.upper()) # convert to uppercase\n",
    "print((first_name[0])+(last_name[0])) # slicing can be used as a def function to extract intials"
   ]
  },
  {
   "cell_type": "code",
   "execution_count": 17,
   "id": "735964b0-0b40-4625-b3df-dc25624e3370",
   "metadata": {},
   "outputs": [
    {
     "name": "stdout",
     "output_type": "stream",
     "text": [
      "arithmetic operations : \n",
      "12\n",
      "2\n",
      "35\n",
      "1.4\n",
      "2\n",
      "16807\n",
      " \n",
      "comparison operation : \n",
      "True\n",
      "False\n",
      "False\n",
      "True\n",
      "True\n",
      "False\n",
      " \n",
      "logical operations : \n",
      "True\n",
      "True\n",
      "False\n",
      " \n"
     ]
    }
   ],
   "source": [
    "# taske 3 : basic operations\n",
    "\n",
    "a = 7\n",
    "b = 5\n",
    "\n",
    "#operations sepreated into different line for readability , print(\" \") used for spacing of paragraphs\n",
    "\n",
    "#arithmetic operations\n",
    "print(\"arithmetic operations : \")\n",
    "\n",
    "print(a+b)\n",
    "print(a-b)\n",
    "print(a*b)\n",
    "print(a/b)\n",
    "print(a%b)\n",
    "print(a**b)\n",
    "print(\" \")\n",
    "\n",
    "#comparison operations , results are in bool and can also be used in if\\else statements\n",
    "print(\"comparison operation : \")\n",
    "\n",
    "print(a>b) # biggerthan\n",
    "print(a<b) # smaller thnan\n",
    "print(a==b) # excatlty equal to\n",
    "print(a!=b) # different than\n",
    "print(a>=b) # bigger or equal to\n",
    "print(a<=b) # smaller or equal to \n",
    "print(\" \")\n",
    "\n",
    "#logical operations , are a combination of comparison operations\n",
    "print(\"logical operations : \")\n",
    "\n",
    "print(a>6 and b<=5) # both conditions have to be met in order for the value to come back as true\n",
    "print(a<=5 or b==5) # just one of the conditions have to be met for the value to come back as true\n",
    "print( not a==7) # the not operation act as a condition opposite for example in a if/else statement , \n",
    "#if the condition is NOT met than do the following, the difference between that and true/false case is that \n",
    "#the later has only 2 possible outcomnes , \n",
    "#the not operation is used for in a case where  a specific condition is NOT met\n",
    "\n",
    "print(\" \")\n",
    "\n",
    "\n"
   ]
  },
  {
   "cell_type": "code",
   "execution_count": 30,
   "id": "a1e6a02c-3e43-4c5f-9af8-11430c5cddba",
   "metadata": {},
   "outputs": [
    {
     "name": "stdout",
     "output_type": "stream",
     "text": [
      "ali\n",
      "29\n",
      " \n",
      "sidali\n",
      " \n",
      "student\n",
      "data_scientist\n",
      " \n",
      "upright\n"
     ]
    }
   ],
   "source": [
    "#task 4 : data collections\n",
    "\n",
    "data_list = [ \"ali\" , 29 , True ] #list [ name , age , is_enrolled]\n",
    "data_dict = { \"occupation\":\"student\" , \"program_duration\": \"4\"} #dictionary {occupation , program lenght in months}\n",
    "data_tuple = ( \"upright\" , \"online\" , \"data_analitycs_bootcamp\" , \"enrolled\") \n",
    "#tuple (service priver , program type , program subject , status)\n",
    "\n",
    "print(data_list[0]) # access name from data list\n",
    "print(data_list[1]) # acces age from data list\n",
    "print(\" \")\n",
    "data_list[0] = \"sidali\" # change name in data list\n",
    "print (data_list[0]) #print name from data list for confimation of change\n",
    "print(\" \")\n",
    "\n",
    "print(data_dict[\"occupation\"]) #access ocupation from data dictionary\n",
    "data_dict[\"occupation\"] = \"data_scientist\" # change ocupation in data_ditionary\n",
    "print(data_dict[\"occupation\"]) # print new ocupation for confirmation of change\n",
    "print(\" \")\n",
    "\n",
    "print(data_tuple[0]) # access service provider from data  tuple , tupleobjects can not be changed"
   ]
  },
  {
   "cell_type": "code",
   "execution_count": 42,
   "id": "07e0132e-0eaa-42a6-a56d-f7eb20481829",
   "metadata": {},
   "outputs": [
    {
     "name": "stdout",
     "output_type": "stream",
     "text": [
      "SIDALI BENABDI is enrolled in the data_analitycs_bootcamp provided_by upright,_he_is_gratefull_for_his_instructors\n",
      " \n",
      "this_is_some_simple_math_operations,_he_ran_out_ideas_trying_to_integrate_them_into_this_task\n",
      " \n",
      "12\n",
      " \n",
      "thank_you_for_taking_the_time_to_read_all_of_this\n"
     ]
    }
   ],
   "source": [
    "#task 5 : expression combination\n",
    "# we are going to be using different variables and operations from the past tasks \n",
    "# in order to come up with a meagninfull expression \n",
    "\n",
    "expression_1 = full_name.upper() + \" \" + \"is\" + \" \" + data_tuple[3] + \" \" + \"in\" + \" \" + \"the\" + \" \" + data_tuple[2] + \" \" + \"provided_by\" + \" \" + data_tuple[0] + \",_he_is_gratefull_for_his_instructors\"\n",
    "expression_2 = \"this_is_some_simple_math_operations,_he_ran_out_ideas_trying_to_integrate_them_into_this_task\"\n",
    "expression_3 = a + b \n",
    "expression_4 = (len(expression_1) + len(expression_2)) # number of items wriiten so far in this task , \n",
    "# only includes first 2 expression because expression_3 is an int and can not be counted\n",
    "\n",
    "print (expression_1)\n",
    "print(\" \")\n",
    "print (expression_2)\n",
    "print(\" \")\n",
    "print(expression_3)\n",
    "print(\" \")\n",
    "print(\"thank_you_for_taking_the_time_to_read_all_of_this\")\n",
    "                   "
   ]
  },
  {
   "cell_type": "code",
   "execution_count": null,
   "id": "188cbe1a-181e-44e9-9467-0049bab1100a",
   "metadata": {},
   "outputs": [],
   "source": []
  }
 ],
 "metadata": {
  "kernelspec": {
   "display_name": "Python [conda env:base] *",
   "language": "python",
   "name": "conda-base-py"
  },
  "language_info": {
   "codemirror_mode": {
    "name": "ipython",
    "version": 3
   },
   "file_extension": ".py",
   "mimetype": "text/x-python",
   "name": "python",
   "nbconvert_exporter": "python",
   "pygments_lexer": "ipython3",
   "version": "3.13.5"
  }
 },
 "nbformat": 4,
 "nbformat_minor": 5
}

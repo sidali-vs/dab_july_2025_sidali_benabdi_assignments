{
 "cells": [
  {
   "cell_type": "code",
   "execution_count": 94,
   "id": "8ee4b535-63f9-496f-b2bd-f5b5dbbb3684",
   "metadata": {},
   "outputs": [
    {
     "name": "stdout",
     "output_type": "stream",
     "text": [
      "✅ Successfully loaded:\n",
      "   - 100 customers\n",
      "   - 60 products\n",
      "   - 150 sales transactions\n",
      "\n",
      "👀 First few rows of each dataset:\n",
      "\n",
      "Customers:\n",
      "   customer_id first_name last_name  age state  income registration_date  \\\n",
      "0            1       John     Smith   34    CA   75000        2022-01-15   \n",
      "1            2      Sarah   Johnson   28    NY   82000        2022-01-22   \n",
      "2            3    Michael     Brown   45    TX   95000        2022-02-03   \n",
      "\n",
      "                     email  \n",
      "0     john.smith@email.com  \n",
      "1  sarah.johnson@email.com  \n",
      "2  michael.brown@email.com  \n",
      "\n",
      "Products:\n",
      "   product_id                   product_name       category  price  \\\n",
      "0           1  Wireless Bluetooth Headphones    Electronics  79.99   \n",
      "1           2         Organic Cotton T-Shirt       Clothing  24.99   \n",
      "2           3   Stainless Steel Water Bottle  Home & Garden  19.99   \n",
      "\n",
      "  launch_date      brand  \n",
      "0  2021-03-15  AudioTech  \n",
      "1  2021-04-20    EcoWear  \n",
      "2  2021-05-10  HydroLife  \n",
      "\n",
      "Sales:\n",
      "   sale_id  customer_id  product_id     transaction_date  quantity  \\\n",
      "0        1            1           1  2022-02-10 14:30:00         1   \n",
      "1        2            2           3  2022-02-15 10:15:00         2   \n",
      "2        3            3           5  2022-02-20 16:45:00         1   \n",
      "\n",
      "   total_amount  \n",
      "0         79.99  \n",
      "1         39.98  \n",
      "2         34.99  \n"
     ]
    }
   ],
   "source": [
    "# Import required libraries\n",
    "import pandas as pd # Main library for data manipulation and analysis\n",
    "# Load the three datasets using pd.read_csv()\n",
    "# This function reads CSV files and converts them into pandas DataFrames\n",
    "customers = pd.read_csv('customers.csv')\n",
    "products = pd.read_csv('products.csv')\n",
    "sales = pd.read_csv('sales.csv')\n",
    "# Display basic information about what we've loaded\n",
    "# len() gives us the number of rows in each DataFrame\n",
    "print(f\"✅ Successfully loaded:\")\n",
    "print(f\"   - {len(customers)} customers\")      # Total number of customer records\n",
    "print(f\"   - {len(products)} products\")        # Total number of products in catalog\n",
    "print(f\"   - {len(sales)} sales transactions\") # Total number of sales transactions\n",
    "\n",
    "# Display the first few rows of each dataset to understand the structure\n",
    "# .head(n) shows the first n rows of a DataFrame - useful for data exploration\n",
    "print(f\"\\n👀 First few rows of each dataset:\")\n",
    "print(f\"\\nCustomers:\")\n",
    "print(customers.head(3))  # Show first 3 rows of customer data\n",
    "print(f\"\\nProducts:\")\n",
    "print(products.head(3))   # Show first 3 rows of product data\n",
    "print(f\"\\nSales:\")\n",
    "print(sales.head(3))      # Show first 3 rows of sales data"
   ]
  },
  {
   "cell_type": "code",
   "execution_count": 95,
   "id": "b0a17d9c-2d9d-42bb-9049-3883f9ed33d7",
   "metadata": {},
   "outputs": [
    {
     "name": "stdout",
     "output_type": "stream",
     "text": [
      "\n",
      "============================================================\n",
      "PART 1: DATETIME OPERATIONS\n",
      "============================================================\n",
      "\n",
      "🕐 1.1 Converting and Working with Dates\n",
      "Converting date columns to datetime...\n",
      "✅ All date columns converted successfully\n",
      "<class 'pandas.core.frame.DataFrame'>\n",
      "RangeIndex: 100 entries, 0 to 99\n",
      "Data columns (total 8 columns):\n",
      " #   Column             Non-Null Count  Dtype         \n",
      "---  ------             --------------  -----         \n",
      " 0   customer_id        100 non-null    int64         \n",
      " 1   first_name         100 non-null    object        \n",
      " 2   last_name          100 non-null    object        \n",
      " 3   age                100 non-null    int64         \n",
      " 4   state              100 non-null    object        \n",
      " 5   income             100 non-null    int64         \n",
      " 6   registration_date  100 non-null    datetime64[ns]\n",
      " 7   email              100 non-null    object        \n",
      "dtypes: datetime64[ns](1), int64(3), object(4)\n",
      "memory usage: 6.4+ KB\n",
      "<class 'pandas.core.frame.DataFrame'>\n",
      "RangeIndex: 60 entries, 0 to 59\n",
      "Data columns (total 6 columns):\n",
      " #   Column        Non-Null Count  Dtype         \n",
      "---  ------        --------------  -----         \n",
      " 0   product_id    60 non-null     int64         \n",
      " 1   product_name  60 non-null     object        \n",
      " 2   category      60 non-null     object        \n",
      " 3   price         60 non-null     float64       \n",
      " 4   launch_date   60 non-null     datetime64[ns]\n",
      " 5   brand         60 non-null     object        \n",
      "dtypes: datetime64[ns](1), float64(1), int64(1), object(3)\n",
      "memory usage: 2.9+ KB\n",
      "<class 'pandas.core.frame.DataFrame'>\n",
      "RangeIndex: 150 entries, 0 to 149\n",
      "Data columns (total 6 columns):\n",
      " #   Column            Non-Null Count  Dtype         \n",
      "---  ------            --------------  -----         \n",
      " 0   sale_id           150 non-null    int64         \n",
      " 1   customer_id       150 non-null    int64         \n",
      " 2   product_id        150 non-null    int64         \n",
      " 3   transaction_date  150 non-null    datetime64[ns]\n",
      " 4   quantity          150 non-null    int64         \n",
      " 5   total_amount      150 non-null    float64       \n",
      "dtypes: datetime64[ns](1), float64(1), int64(4)\n",
      "memory usage: 7.2 KB\n"
     ]
    }
   ],
   "source": [
    "# =============================================================================\n",
    "# PART 1: DATETIME OPERATIONS\n",
    "# =============================================================================\n",
    "# DateTime operations are crucial for time-based analysis in business data\n",
    "# We'll convert text dates to proper datetime objects and extract useful components\n",
    "\n",
    "print(\"\\n\" + \"=\" * 60)\n",
    "print(\"PART 1: DATETIME OPERATIONS\")\n",
    "print(\"=\" * 60)\n",
    "\n",
    "print(\"\\n🕐 1.1 Converting and Working with Dates\")\n",
    "\n",
    "# Convert date columns from strings to pandas datetime objects\n",
    "# pd.to_datetime() is the main function for converting various date formats\n",
    "# Once converted, we can perform date arithmetic and extract components\n",
    "print(\"Converting date columns to datetime...\")\n",
    "# YOUR CODE HERE\n",
    "customers['registration_date'] = pd.to_datetime(customers['registration_date'], errors='coerce')\n",
    "products['launch_date'] = pd.to_datetime(products['launch_date'], errors='coerce')\n",
    "sales['transaction_date'] = pd.to_datetime(sales['transaction_date'], errors='coerce')\n",
    "print(\"✅ All date columns converted successfully\")\n",
    "# double checking :\n",
    "customers.info()\n",
    "products.info()\n",
    "sales.info()"
   ]
  },
  {
   "cell_type": "code",
   "execution_count": 96,
   "id": "51e41994-efd9-4c7d-8d8d-835c1fb66140",
   "metadata": {},
   "outputs": [
    {
     "name": "stdout",
     "output_type": "stream",
     "text": [
      "\n",
      "Extracting datetime components...\n",
      "✅ Extracted: year, month, day of week, and day name\n",
      "\n",
      " updated dataframes :\n",
      "\n",
      "Customers:\n",
      "   customer_id first_name last_name  age state  income registration_date  \\\n",
      "0            1       John     Smith   34    CA   75000        2022-01-15   \n",
      "1            2      Sarah   Johnson   28    NY   82000        2022-01-22   \n",
      "2            3    Michael     Brown   45    TX   95000        2022-02-03   \n",
      "3            4      Emily     Davis   31    FL   68000        2022-02-14   \n",
      "4            5      David    Wilson   52    IL  110000        2022-02-28   \n",
      "\n",
      "                     email  registration_year registration_month  \\\n",
      "0     john.smith@email.com               2022            January   \n",
      "1  sarah.johnson@email.com               2022            January   \n",
      "2  michael.brown@email.com               2022           February   \n",
      "3    emily.davis@email.com               2022           February   \n",
      "4   david.wilson@email.com               2022           February   \n",
      "\n",
      "   registration_day registration_day_name  \n",
      "0                 5              Saturday  \n",
      "1                 5              Saturday  \n",
      "2                 3              Thursday  \n",
      "3                 0                Monday  \n",
      "4                 0                Monday  \n",
      "\n",
      "Products:\n",
      "   product_id                   product_name           category  price  \\\n",
      "0           1  Wireless Bluetooth Headphones        Electronics  79.99   \n",
      "1           2         Organic Cotton T-Shirt           Clothing  24.99   \n",
      "2           3   Stainless Steel Water Bottle      Home & Garden  19.99   \n",
      "3           4          Leather Crossbody Bag        Accessories  89.99   \n",
      "4           5               Yoga Mat Premium  Sports & Outdoors  34.99   \n",
      "\n",
      "  launch_date       brand  launch_year launch_month  launch_day  \\\n",
      "0  2021-03-15   AudioTech         2021        March           0   \n",
      "1  2021-04-20     EcoWear         2021        April           1   \n",
      "2  2021-05-10   HydroLife         2021          May           0   \n",
      "3  2021-06-01  StyleCraft         2021         June           1   \n",
      "4  2021-06-15     FitZone         2021         June           1   \n",
      "\n",
      "  launch_day_name  \n",
      "0          Monday  \n",
      "1         Tuesday  \n",
      "2          Monday  \n",
      "3         Tuesday  \n",
      "4         Tuesday  \n",
      "\n",
      "Sales:\n",
      "   sale_id  customer_id  product_id    transaction_date  quantity  \\\n",
      "0        1            1           1 2022-02-10 14:30:00         1   \n",
      "1        2            2           3 2022-02-15 10:15:00         2   \n",
      "2        3            3           5 2022-02-20 16:45:00         1   \n",
      "3        4            4           2 2022-02-25 11:20:00         3   \n",
      "4        5            5           4 2022-03-01 13:10:00         1   \n",
      "\n",
      "   total_amount  transaction_year transaction_month  transaction_day  \\\n",
      "0         79.99              2022          February                3   \n",
      "1         39.98              2022          February                1   \n",
      "2         34.99              2022          February                6   \n",
      "3         74.97              2022          February                4   \n",
      "4         89.99              2022             March                1   \n",
      "\n",
      "  transaction_day_name  \n",
      "0             Thursday  \n",
      "1              Tuesday  \n",
      "2               Sunday  \n",
      "3               Friday  \n",
      "4              Tuesday  \n"
     ]
    }
   ],
   "source": [
    "# Extract useful components from datetime objects using the .dt accessor\n",
    "# The .dt accessor gives us access to datetime-specific methods and properties\n",
    "print(\"\\nExtracting datetime components...\")   \n",
    "# Extract year (2022, 2023, etc.)\n",
    "customers['registration_year'] = customers['registration_date'].dt.year\n",
    "products['launch_year'] = products['launch_date'].dt.year\n",
    "sales['transaction_year'] = sales['transaction_date'].dt.year\n",
    "# Extract month number (1-12)\n",
    "customers['registration_month'] = customers['registration_date'].dt.month_name()\n",
    "products['launch_month'] = products['launch_date'].dt.month_name()\n",
    "sales['transaction_month'] = sales['transaction_date'].dt.month_name()\n",
    "# Day of week (Monday=0, Sunday=6)\n",
    "customers['registration_day'] = customers['registration_date'].dt.dayofweek\n",
    "products['launch_day'] = products['launch_date'].dt.dayofweek\n",
    "sales['transaction_day'] = sales['transaction_date'].dt.dayofweek\n",
    "# Day name as text (Monday, Tuesday, etc.)\n",
    "customers['registration_day_name'] = customers['registration_date'].dt.day_name()\n",
    "products['launch_day_name'] = products['launch_date'].dt.day_name()\n",
    "sales['transaction_day_name'] = sales['transaction_date'].dt.day_name()\n",
    "print(\"✅ Extracted: year, month, day of week, and day name\")\n",
    "#double checking\n",
    "print(f\"\\n updated dataframes :\")\n",
    "print(\"\\nCustomers:\")\n",
    "print(customers.head())\n",
    "\n",
    "print(\"\\nProducts:\")\n",
    "print(products.head())\n",
    "\n",
    "print(\"\\nSales:\")\n",
    "print(sales.head())"
   ]
  },
  {
   "cell_type": "code",
   "execution_count": 97,
   "id": "854f2fc0-0ec8-417e-a833-946e65644ff3",
   "metadata": {},
   "outputs": [
    {
     "name": "stdout",
     "output_type": "stream",
     "text": [
      "2022-02-10 14:30:00\n",
      "2024-03-05 10:30:00\n",
      "\n",
      "🔍 1.2 Basic Time Analysis\n"
     ]
    }
   ],
   "source": [
    "# Find the date range of our sales data by using min() and max()\n",
    "# This helps us understand the time span our analysis covers\n",
    "# YOUR CODE HERE\n",
    "print(sales[\"transaction_date\"].min())\n",
    "print(sales[\"transaction_date\"].max())\n",
    "print(\"\\n🔍 1.2 Basic Time Analysis\")"
   ]
  },
  {
   "cell_type": "code",
   "execution_count": 98,
   "id": "0e142470-1323-4179-81f3-64fcc0bb9241",
   "metadata": {},
   "outputs": [
    {
     "name": "stdout",
     "output_type": "stream",
     "text": [
      "the buisest day is: Friday with 24 transactions\n",
      "the month with the most transactions is : February with 16 transactions\n",
      " \n",
      " Sales by year :\n",
      "   transaction_year  count\n",
      "0              2023     72\n",
      "1              2022     65\n",
      "2              2024     13\n"
     ]
    }
   ],
   "source": [
    "# Basic Time Analysis;\n",
    "# Find the busiest day of the week by counting transactions\n",
    "# .value_counts() counts occurrences of each unique value\n",
    "# YOUR CODE HERE\n",
    "counts_transactions_by_day = sales['transaction_day_name'].value_counts()\n",
    "top_value_day = counts_transactions_by_day.index[0]\n",
    "top_count_day = counts_transactions_by_day.iloc[0]\n",
    "print(\"the buisest day is:\", top_value_day, \"with\", top_count_day, \"transactions\")\n",
    "\n",
    "#Determine which month had the most transactions\n",
    "counts_transactions_by_month = sales['transaction_month'].value_counts()\n",
    "top_value_month = counts_transactions_by_month.index[0]\n",
    "top_count_month = counts_transactions_by_month.iloc[0]\n",
    "print(\"the month with the most transactions is :\", top_value_month, \"with\", top_count_month, \"transactions\")\n",
    "\n",
    "#Count how many sales happened in each year\n",
    "\n",
    "counts_transactions_by_year = sales['transaction_year'].value_counts().reset_index(name = \"count\")\n",
    "print(f\" \\n Sales by year :\")\n",
    "print(counts_transactions_by_year)\n",
    "\n"
   ]
  },
  {
   "cell_type": "code",
   "execution_count": 99,
   "id": "03151bd9-9269-4f3c-b0ef-68e50f7839e5",
   "metadata": {},
   "outputs": [],
   "source": [
    "# =============================================================================\n",
    "# PART 2: GROUPBY AND AGGREGATION\n",
    "# ============================================================================="
   ]
  },
  {
   "cell_type": "code",
   "execution_count": 100,
   "id": "f1a5236d-27ff-42ce-8bba-581a79553e07",
   "metadata": {},
   "outputs": [
    {
     "data": {
      "text/html": [
       "<div>\n",
       "<style scoped>\n",
       "    .dataframe tbody tr th:only-of-type {\n",
       "        vertical-align: middle;\n",
       "    }\n",
       "\n",
       "    .dataframe tbody tr th {\n",
       "        vertical-align: top;\n",
       "    }\n",
       "\n",
       "    .dataframe thead th {\n",
       "        text-align: right;\n",
       "    }\n",
       "</style>\n",
       "<table border=\"1\" class=\"dataframe\">\n",
       "  <thead>\n",
       "    <tr style=\"text-align: right;\">\n",
       "      <th></th>\n",
       "      <th>product_id</th>\n",
       "      <th>product_name</th>\n",
       "      <th>category</th>\n",
       "      <th>price</th>\n",
       "      <th>launch_date</th>\n",
       "      <th>brand</th>\n",
       "      <th>launch_year</th>\n",
       "      <th>launch_month</th>\n",
       "      <th>launch_day</th>\n",
       "      <th>launch_day_name</th>\n",
       "    </tr>\n",
       "  </thead>\n",
       "  <tbody>\n",
       "    <tr>\n",
       "      <th>0</th>\n",
       "      <td>1</td>\n",
       "      <td>Wireless Bluetooth Headphones</td>\n",
       "      <td>Electronics</td>\n",
       "      <td>79.99</td>\n",
       "      <td>2021-03-15</td>\n",
       "      <td>AudioTech</td>\n",
       "      <td>2021</td>\n",
       "      <td>March</td>\n",
       "      <td>0</td>\n",
       "      <td>Monday</td>\n",
       "    </tr>\n",
       "    <tr>\n",
       "      <th>1</th>\n",
       "      <td>2</td>\n",
       "      <td>Organic Cotton T-Shirt</td>\n",
       "      <td>Clothing</td>\n",
       "      <td>24.99</td>\n",
       "      <td>2021-04-20</td>\n",
       "      <td>EcoWear</td>\n",
       "      <td>2021</td>\n",
       "      <td>April</td>\n",
       "      <td>1</td>\n",
       "      <td>Tuesday</td>\n",
       "    </tr>\n",
       "    <tr>\n",
       "      <th>2</th>\n",
       "      <td>3</td>\n",
       "      <td>Stainless Steel Water Bottle</td>\n",
       "      <td>Home &amp; Garden</td>\n",
       "      <td>19.99</td>\n",
       "      <td>2021-05-10</td>\n",
       "      <td>HydroLife</td>\n",
       "      <td>2021</td>\n",
       "      <td>May</td>\n",
       "      <td>0</td>\n",
       "      <td>Monday</td>\n",
       "    </tr>\n",
       "    <tr>\n",
       "      <th>3</th>\n",
       "      <td>4</td>\n",
       "      <td>Leather Crossbody Bag</td>\n",
       "      <td>Accessories</td>\n",
       "      <td>89.99</td>\n",
       "      <td>2021-06-01</td>\n",
       "      <td>StyleCraft</td>\n",
       "      <td>2021</td>\n",
       "      <td>June</td>\n",
       "      <td>1</td>\n",
       "      <td>Tuesday</td>\n",
       "    </tr>\n",
       "    <tr>\n",
       "      <th>4</th>\n",
       "      <td>5</td>\n",
       "      <td>Yoga Mat Premium</td>\n",
       "      <td>Sports &amp; Outdoors</td>\n",
       "      <td>34.99</td>\n",
       "      <td>2021-06-15</td>\n",
       "      <td>FitZone</td>\n",
       "      <td>2021</td>\n",
       "      <td>June</td>\n",
       "      <td>1</td>\n",
       "      <td>Tuesday</td>\n",
       "    </tr>\n",
       "  </tbody>\n",
       "</table>\n",
       "</div>"
      ],
      "text/plain": [
       "   product_id                   product_name           category  price  \\\n",
       "0           1  Wireless Bluetooth Headphones        Electronics  79.99   \n",
       "1           2         Organic Cotton T-Shirt           Clothing  24.99   \n",
       "2           3   Stainless Steel Water Bottle      Home & Garden  19.99   \n",
       "3           4          Leather Crossbody Bag        Accessories  89.99   \n",
       "4           5               Yoga Mat Premium  Sports & Outdoors  34.99   \n",
       "\n",
       "  launch_date       brand  launch_year launch_month  launch_day  \\\n",
       "0  2021-03-15   AudioTech         2021        March           0   \n",
       "1  2021-04-20     EcoWear         2021        April           1   \n",
       "2  2021-05-10   HydroLife         2021          May           0   \n",
       "3  2021-06-01  StyleCraft         2021         June           1   \n",
       "4  2021-06-15     FitZone         2021         June           1   \n",
       "\n",
       "  launch_day_name  \n",
       "0          Monday  \n",
       "1         Tuesday  \n",
       "2          Monday  \n",
       "3         Tuesday  \n",
       "4         Tuesday  "
      ]
     },
     "execution_count": 100,
     "metadata": {},
     "output_type": "execute_result"
    }
   ],
   "source": [
    "products.head()"
   ]
  },
  {
   "cell_type": "code",
   "execution_count": 110,
   "id": "6a94b8ab-6a66-4939-992c-6909130bdf8b",
   "metadata": {},
   "outputs": [
    {
     "name": "stdout",
     "output_type": "stream",
     "text": [
      "Product Category and Its Average Price \n",
      "            category  average_price\n",
      "4  Sports & Outdoors         105.90\n",
      "2        Electronics          59.99\n",
      "1           Clothing          52.24\n",
      "0        Accessories          35.07\n",
      "3      Home & Garden          30.16\n"
     ]
    }
   ],
   "source": [
    "# 1.Product Analysis:\n",
    "# Group products by category and calculate average price for each category\n",
    "# .groupby() splits the data into groups based on the 'category' column\n",
    "# .mean() calculates the average for each group\n",
    "# .round(2) rounds to 2 decimal places for currency formatting\n",
    "# .sort_values(ascending=False) sorts from highest to lowest price\n",
    "products_category_by_average_price = products.groupby(\"category\")[\"price\"].mean().round(2).reset_index(name = \"average_price\").sort_values(by = \"average_price\", ascending = False)\n",
    "\n",
    "print(\"Product Category and Its Average Price \")\n",
    "print(products_category_by_average_price)"
   ]
  },
  {
   "cell_type": "code",
   "execution_count": 102,
   "id": "3c17076b-1606-44e5-b5ae-77ec174e0f38",
   "metadata": {},
   "outputs": [
    {
     "name": "stdout",
     "output_type": "stream",
     "text": [
      "products categorys and the number of products in each category\n",
      "            category  number_of_products\n",
      "0        Electronics                  13\n",
      "1           Clothing                  12\n",
      "2      Home & Garden                  12\n",
      "3        Accessories                  12\n",
      "4  Sports & Outdoors                  11\n"
     ]
    }
   ],
   "source": [
    "# Count how many products exist in each category\n",
    "# .value_counts() counts occurrences of each unique category\n",
    "\n",
    "products_category_by_number_of_products = products[\"category\"].value_counts().reset_index(name = \"number_of_products\").sort_values(by = \"number_of_products\" , ascending = False)\n",
    "\n",
    "print(\"products categorys and the number of products in each category\")\n",
    "print(products_category_by_number_of_products)"
   ]
  },
  {
   "cell_type": "code",
   "execution_count": 112,
   "id": "72fce3d4-26fc-415f-8f69-d2a449d113d4",
   "metadata": {},
   "outputs": [
    {
     "name": "stdout",
     "output_type": "stream",
     "text": [
      "average customer age in each state\n",
      "  state  average_age\n",
      "1    FL        39.00\n",
      "4    TX        38.30\n",
      "2    IL        37.25\n",
      "3    NY        36.50\n",
      "0    CA        34.10\n"
     ]
    }
   ],
   "source": [
    "# 2. Customer Analysis:\n",
    "# Group customers by state and calculate average age\n",
    "# This shows us the demographic profile of customers in different regions\n",
    "\n",
    "state_by_average_age = customers.groupby(\"state\")[\"age\"].mean().round(2).reset_index(name = \"average_age\").sort_values(by = \"average_age\", ascending = False)\n",
    "print(\"average customer age in each state\")\n",
    "print(state_by_average_age)"
   ]
  },
  {
   "cell_type": "code",
   "execution_count": 109,
   "id": "34c3a14b-f79e-44c4-bcb7-ed17be7f6bc5",
   "metadata": {},
   "outputs": [],
   "source": [
    "#Calculate total spending per customer (sum up all their purchases)"
   ]
  },
  {
   "cell_type": "code",
   "execution_count": 108,
   "id": "b887ab2e-b9bf-4fd7-bfbf-a2f3879544c0",
   "metadata": {},
   "outputs": [
    {
     "name": "stdout",
     "output_type": "stream",
     "text": [
      "    customer_id  total_spent\n",
      "30           31       379.97\n",
      "12           13       359.96\n",
      "40           41       329.98\n",
      "83           84       319.98\n",
      "29           30       284.98\n",
      "..          ...          ...\n",
      "69           70        33.98\n",
      "88           89        29.99\n",
      "68           69        28.99\n",
      "71           72        24.99\n",
      "76           77        12.99\n",
      "\n",
      "[90 rows x 2 columns]\n"
     ]
    }
   ],
   "source": [
    "total_spending_per_customer = (\n",
    "    sales.groupby(\"customer_id\")[\"total_amount\"]\n",
    "    .sum()\n",
    "    .round(2)\n",
    "    .reset_index(name = \"total_spent\")\n",
    "    .sort_values(by = \"total_spent\", ascending = False)\n",
    ")\n",
    "print(total_spending_per_customer)"
   ]
  },
  {
   "cell_type": "code",
   "execution_count": 131,
   "id": "341a391e-3660-41a1-8ea1-bc0ea7e19aaa",
   "metadata": {},
   "outputs": [
    {
     "data": {
      "text/html": [
       "<div>\n",
       "<style scoped>\n",
       "    .dataframe tbody tr th:only-of-type {\n",
       "        vertical-align: middle;\n",
       "    }\n",
       "\n",
       "    .dataframe tbody tr th {\n",
       "        vertical-align: top;\n",
       "    }\n",
       "\n",
       "    .dataframe thead th {\n",
       "        text-align: right;\n",
       "    }\n",
       "</style>\n",
       "<table border=\"1\" class=\"dataframe\">\n",
       "  <thead>\n",
       "    <tr style=\"text-align: right;\">\n",
       "      <th></th>\n",
       "      <th>sale_id</th>\n",
       "      <th>customer_id</th>\n",
       "      <th>product_id</th>\n",
       "      <th>transaction_date</th>\n",
       "      <th>quantity</th>\n",
       "      <th>total_amount</th>\n",
       "      <th>transaction_year</th>\n",
       "      <th>transaction_month</th>\n",
       "      <th>transaction_day</th>\n",
       "      <th>transaction_day_name</th>\n",
       "    </tr>\n",
       "  </thead>\n",
       "  <tbody>\n",
       "    <tr>\n",
       "      <th>0</th>\n",
       "      <td>1</td>\n",
       "      <td>1</td>\n",
       "      <td>1</td>\n",
       "      <td>2022-02-10 14:30:00</td>\n",
       "      <td>1</td>\n",
       "      <td>79.99</td>\n",
       "      <td>2022</td>\n",
       "      <td>February</td>\n",
       "      <td>3</td>\n",
       "      <td>Thursday</td>\n",
       "    </tr>\n",
       "    <tr>\n",
       "      <th>1</th>\n",
       "      <td>2</td>\n",
       "      <td>2</td>\n",
       "      <td>3</td>\n",
       "      <td>2022-02-15 10:15:00</td>\n",
       "      <td>2</td>\n",
       "      <td>39.98</td>\n",
       "      <td>2022</td>\n",
       "      <td>February</td>\n",
       "      <td>1</td>\n",
       "      <td>Tuesday</td>\n",
       "    </tr>\n",
       "    <tr>\n",
       "      <th>2</th>\n",
       "      <td>3</td>\n",
       "      <td>3</td>\n",
       "      <td>5</td>\n",
       "      <td>2022-02-20 16:45:00</td>\n",
       "      <td>1</td>\n",
       "      <td>34.99</td>\n",
       "      <td>2022</td>\n",
       "      <td>February</td>\n",
       "      <td>6</td>\n",
       "      <td>Sunday</td>\n",
       "    </tr>\n",
       "    <tr>\n",
       "      <th>3</th>\n",
       "      <td>4</td>\n",
       "      <td>4</td>\n",
       "      <td>2</td>\n",
       "      <td>2022-02-25 11:20:00</td>\n",
       "      <td>3</td>\n",
       "      <td>74.97</td>\n",
       "      <td>2022</td>\n",
       "      <td>February</td>\n",
       "      <td>4</td>\n",
       "      <td>Friday</td>\n",
       "    </tr>\n",
       "    <tr>\n",
       "      <th>4</th>\n",
       "      <td>5</td>\n",
       "      <td>5</td>\n",
       "      <td>4</td>\n",
       "      <td>2022-03-01 13:10:00</td>\n",
       "      <td>1</td>\n",
       "      <td>89.99</td>\n",
       "      <td>2022</td>\n",
       "      <td>March</td>\n",
       "      <td>1</td>\n",
       "      <td>Tuesday</td>\n",
       "    </tr>\n",
       "  </tbody>\n",
       "</table>\n",
       "</div>"
      ],
      "text/plain": [
       "   sale_id  customer_id  product_id    transaction_date  quantity  \\\n",
       "0        1            1           1 2022-02-10 14:30:00         1   \n",
       "1        2            2           3 2022-02-15 10:15:00         2   \n",
       "2        3            3           5 2022-02-20 16:45:00         1   \n",
       "3        4            4           2 2022-02-25 11:20:00         3   \n",
       "4        5            5           4 2022-03-01 13:10:00         1   \n",
       "\n",
       "   total_amount  transaction_year transaction_month  transaction_day  \\\n",
       "0         79.99              2022          February                3   \n",
       "1         39.98              2022          February                1   \n",
       "2         34.99              2022          February                6   \n",
       "3         74.97              2022          February                4   \n",
       "4         89.99              2022             March                1   \n",
       "\n",
       "  transaction_day_name  \n",
       "0             Thursday  \n",
       "1              Tuesday  \n",
       "2               Sunday  \n",
       "3               Friday  \n",
       "4              Tuesday  "
      ]
     },
     "execution_count": 131,
     "metadata": {},
     "output_type": "execute_result"
    }
   ],
   "source": [
    "sales.head()"
   ]
  },
  {
   "cell_type": "code",
   "execution_count": 117,
   "id": "10e626d1-b1cd-4cad-92fe-f179a302751f",
   "metadata": {},
   "outputs": [
    {
     "name": "stdout",
     "output_type": "stream",
     "text": [
      "    customer_id  number_of_purchases\n",
      "0             1                    2\n",
      "31           32                    2\n",
      "33           34                    2\n",
      "34           35                    2\n",
      "35           36                    2\n"
     ]
    }
   ],
   "source": [
    "# Find customers with the most purchases (transaction frequency)\n",
    "# .groupby().size() counts the number of transactions per customer\n",
    "\n",
    "purchases_by_customers = (\n",
    "    sales.groupby((\"customer_id\"))\n",
    "    .size()\n",
    "    .reset_index(name = \"number_of_purchases\")\n",
    "    .sort_values(by = \"number_of_purchases\", ascending = False)\n",
    ")\n",
    "print(purchases_by_customers.head())\n"
   ]
  },
  {
   "cell_type": "code",
   "execution_count": null,
   "id": "69c7cc7a-e846-4dcd-a38c-37b7ce890678",
   "metadata": {},
   "outputs": [],
   "source": [
    "#3.Sales Analysis:"
   ]
  },
  {
   "cell_type": "code",
   "execution_count": 120,
   "id": "6030624c-5b22-401b-97ef-006d91da674e",
   "metadata": {},
   "outputs": [
    {
     "name": "stdout",
     "output_type": "stream",
     "text": [
      "   transaction_month  total_revenue\n",
      "3           February        1669.66\n",
      "2           December        1458.71\n",
      "10           October        1235.80\n",
      "8                May        1177.79\n",
      "11         September        1150.76\n",
      "7              March        1115.77\n",
      "9           November        1022.76\n",
      "6               June         986.68\n",
      "5               July         930.80\n",
      "0              April         924.77\n",
      "1             August         870.74\n",
      "4            January         864.79\n"
     ]
    }
   ],
   "source": [
    "# Calculate total sales revenue by month\n",
    "# Group sales by month and sum the total_amount for each month\n",
    "\n",
    "total_sales_by_month = (\n",
    "    sales.groupby(\"transaction_month\")[\"total_amount\"]\n",
    "    .sum()\n",
    "    .round(2)\n",
    "    .reset_index(name = \"total_revenue\")\n",
    "    .sort_values(by = \"total_revenue\", ascending = False)\n",
    ")\n",
    "print(total_sales_by_month)\n",
    "\n"
   ]
  },
  {
   "cell_type": "code",
   "execution_count": 123,
   "id": "61ed40fe-baed-4008-aac3-b0b29d40ad69",
   "metadata": {},
   "outputs": [
    {
     "name": "stdout",
     "output_type": "stream",
     "text": [
      "  transaction_day_name  average_transaction_amount\n",
      "4             Thursday                      102.27\n",
      "0               Friday                      100.94\n",
      "3               Sunday                       99.55\n",
      "6            Wednesday                       96.07\n",
      "1               Monday                       90.93\n",
      "5              Tuesday                       74.03\n",
      "2             Saturday                       61.12\n"
     ]
    }
   ],
   "source": [
    "# Calculate average transaction amount by day of week\n",
    "# This shows us if people spend more on certain days\n",
    "\n",
    "average_transaction_amount_by_day_of_week = (\n",
    "    sales.groupby(\"transaction_day_name\")[\"total_amount\"]\n",
    "    .mean()\n",
    "    .round(2)\n",
    "    .reset_index(name = \"average_transaction_amount\")\n",
    "    .sort_values(by = \"average_transaction_amount\", ascending = False)\n",
    ")\n",
    "print(average_transaction_amount_by_day_of_week)\n"
   ]
  },
  {
   "cell_type": "code",
   "execution_count": 134,
   "id": "e0f7388f-87d0-4b05-aded-330efbcd37e6",
   "metadata": {},
   "outputs": [
    {
     "name": "stdout",
     "output_type": "stream",
     "text": [
      "            category  total_revenue\n",
      "4  Sports & Outdoors        3544.64\n",
      "2        Electronics        3524.29\n",
      "1           Clothing        2745.39\n",
      "0        Accessories        2053.25\n",
      "3      Home & Garden        1541.46\n"
     ]
    }
   ],
   "source": [
    "# Determine which product category generates the most total revenue\n",
    "\n",
    "sales_with_category = pd.merge(sales, products[[\"product_id\",\"category\"]], on = \"product_id\", how = \"left\")\n",
    "\n",
    "total_revenue_by_category = (\n",
    "    sales_with_category.groupby(\"category\")[\"total_amount\"]\n",
    "    .sum()\n",
    "    .round(2)\n",
    "    .reset_index(name = \"total_revenue\")\n",
    "    .sort_values(by = \"total_revenue\", ascending = False)\n",
    ")\n",
    "print(total_revenue_by_category)\n",
    "\n"
   ]
  },
  {
   "cell_type": "code",
   "execution_count": null,
   "id": "e30a6337-e7df-4f51-a80f-d7c0532475b5",
   "metadata": {},
   "outputs": [],
   "source": [
    "# =============================================================================\n",
    "# PART 3: Basic Data Insights\n",
    "# ============================================================================="
   ]
  },
  {
   "cell_type": "code",
   "execution_count": null,
   "id": "c74b8e10-022f-41bf-8dc9-2276b48eb77d",
   "metadata": {},
   "outputs": [],
   "source": []
  },
  {
   "cell_type": "code",
   "execution_count": null,
   "id": "833fa1d2-07ee-4ed2-8bb6-63a1c78e74d2",
   "metadata": {},
   "outputs": [],
   "source": []
  },
  {
   "cell_type": "code",
   "execution_count": null,
   "id": "b64f478f-0214-4349-b71b-aece42b97395",
   "metadata": {},
   "outputs": [],
   "source": []
  },
  {
   "cell_type": "code",
   "execution_count": null,
   "id": "b478b019-ddbe-40b4-8473-ae9d488705ae",
   "metadata": {},
   "outputs": [],
   "source": [
    "# 1. Simple Comparisons:"
   ]
  },
  {
   "cell_type": "code",
   "execution_count": 135,
   "id": "4713d1d8-e20b-4578-b3fe-986837ddd131",
   "metadata": {},
   "outputs": [
    {
     "name": "stdout",
     "output_type": "stream",
     "text": [
      "  state  total_customers\n",
      "0    CA               20\n",
      "1    FL               20\n",
      "2    IL               20\n",
      "3    NY               20\n",
      "4    TX               20\n"
     ]
    }
   ],
   "source": [
    "# Find which state has the most customers\n",
    "customer_per_state = (\n",
    "    customers.groupby(\"state\")[\"customer_id\"]\n",
    "    .count()\n",
    "    .reset_index(name = \"total_customers\")\n",
    "    .sort_values(by = \"total_customers\", ascending = False)\n",
    ")\n",
    "print(customer_per_state)\n"
   ]
  },
  {
   "cell_type": "code",
   "execution_count": 136,
   "id": "8dffa693-8420-45ce-be6e-1fe43f4b4d6e",
   "metadata": {},
   "outputs": [
    {
     "name": "stdout",
     "output_type": "stream",
     "text": [
      "    customer_id  total_spent\n",
      "30           31       379.97\n",
      "12           13       359.96\n",
      "40           41       329.98\n",
      "83           84       319.98\n",
      "29           30       284.98\n"
     ]
    }
   ],
   "source": [
    "# Identify the top 5 customers by total spending\n",
    "total_spending_by_customer = (\n",
    "    sales.groupby(\"customer_id\")[\"total_amount\"]\n",
    "    .sum()\n",
    "    .round(2)\n",
    "    .reset_index(name = \"total_spent\")\n",
    "    .sort_values(by = \"total_spent\", ascending = False)\n",
    ")\n",
    "print(total_spending_by_customer.head())"
   ]
  },
  {
   "cell_type": "code",
   "execution_count": 137,
   "id": "f88dacd6-7ae0-4e2c-ba0e-4da49c38dbaa",
   "metadata": {},
   "outputs": [
    {
     "name": "stdout",
     "output_type": "stream",
     "text": [
      "  transaction_day_name  average_transaction_amount\n",
      "4             Thursday                      102.27\n"
     ]
    }
   ],
   "source": [
    "# Determine which day of the week has the highest average transaction value\n",
    "#previously done in part 2 / sales analysis so we r just going to call the top value\n",
    "print(average_transaction_amount_by_day_of_week.head(1))"
   ]
  },
  {
   "cell_type": "code",
   "execution_count": null,
   "id": "f9cf809b-2b09-4e0a-beff-140d15c39605",
   "metadata": {},
   "outputs": [],
   "source": []
  }
 ],
 "metadata": {
  "kernelspec": {
   "display_name": "Python [conda env:base] *",
   "language": "python",
   "name": "conda-base-py"
  },
  "language_info": {
   "codemirror_mode": {
    "name": "ipython",
    "version": 3
   },
   "file_extension": ".py",
   "mimetype": "text/x-python",
   "name": "python",
   "nbconvert_exporter": "python",
   "pygments_lexer": "ipython3",
   "version": "3.13.5"
  }
 },
 "nbformat": 4,
 "nbformat_minor": 5
}
